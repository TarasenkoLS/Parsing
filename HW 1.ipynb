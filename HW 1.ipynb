{
 "cells": [
  {
   "cell_type": "markdown",
   "id": "673396f4",
   "metadata": {},
   "source": [
    "### 1. Посмотреть документацию к API GitHub, разобраться как вывести список репозиториев для конкретного пользователя, сохранить JSON-вывод в файле *.json."
   ]
  },
  {
   "cell_type": "code",
   "execution_count": 1,
   "id": "22350d9b",
   "metadata": {},
   "outputs": [],
   "source": [
    "# Импортируем нужные библиотеки\n",
    "import requests\n",
    "import json"
   ]
  },
  {
   "cell_type": "code",
   "execution_count": 2,
   "id": "59fad324",
   "metadata": {},
   "outputs": [],
   "source": [
    "# Прописываем нужные данные:\n",
    "url = 'https://api.github.com' # Ссылка на github api\n",
    "user = 'TarasenkoLS' # Ник пользователя GitHub, чьи репозитории будем парсить\n",
    "r = requests.get(f'{url}/users/{user}/repos') # get запрос "
   ]
  },
  {
   "cell_type": "code",
   "execution_count": 3,
   "id": "6ee9470b",
   "metadata": {},
   "outputs": [],
   "source": [
    "# Записываем полученный json в файл data.json\n",
    "with open('repo.json', 'w') as f:\n",
    "    json.dump(r.json(), f)"
   ]
  },
  {
   "cell_type": "code",
   "execution_count": 4,
   "id": "1a5280fa",
   "metadata": {},
   "outputs": [
    {
     "name": "stdout",
     "output_type": "stream",
     "text": [
      "Parsing\n",
      "project\n",
      "Python\n",
      "pythonProjectTLS\n",
      "Python_for_DS\n",
      "Python_project\n",
      "repo-github\n",
      "repoTLS-GH\n",
      "sql\n"
     ]
    }
   ],
   "source": [
    "# Выведем названия репозиториев\n",
    "for i in r.json():\n",
    "    print(i['name'])"
   ]
  },
  {
   "cell_type": "markdown",
   "id": "e681bdfa",
   "metadata": {},
   "source": [
    "### 2. Изучить список открытых API. Найти среди них любое, требующее авторизацию (любого типа). Выполнить запросы к нему, пройдя авторизацию. Ответ сервера записать в файл."
   ]
  },
  {
   "cell_type": "code",
   "execution_count": 24,
   "id": "c4a8c5fa",
   "metadata": {},
   "outputs": [],
   "source": [
    "def get_data(appid,city):\n",
    "    while True:\n",
    "        url_geo = f'http://api.openweathermap.org/geo/1.0/direct?q={city}&limit=1&appid={appid}'\n",
    "        resp = requests.get(url_geo)\n",
    "        lat = resp.json()[0]['lat']\n",
    "        lon = resp.json()[0]['lon']\n",
    "        url = f'https://api.openweathermap.org/data/2.5/weather?lat={lat}&lon={lon}&exclude=current&appid={appid}&lang=ru'\n",
    "        response = requests.get(url)\n",
    "        if response.status_code == 200:\n",
    "            print(url)\n",
    "            break\n",
    "    return response.json()"
   ]
  },
  {
   "cell_type": "code",
   "execution_count": 28,
   "id": "4c5589b1",
   "metadata": {},
   "outputs": [
    {
     "name": "stdout",
     "output_type": "stream",
     "text": [
      "https://api.openweathermap.org/data/2.5/weather?lat=55.7504461&lon=37.6174943&exclude=current&appid=6916bbbfb0bd898507225e1c734290bb&lang=ru\n",
      "Получен результат\n",
      "{'coord': {'lon': 37.6175, 'lat': 55.7504}, 'weather': [{'id': 804, 'main': 'Clouds', 'description': 'пасмурно', 'icon': '04d'}], 'base': 'stations', 'main': {'temp': 274.12, 'feels_like': 268.89, 'temp_min': 272.95, 'temp_max': 274.51, 'pressure': 1013, 'humidity': 90, 'sea_level': 1013, 'grnd_level': 995}, 'visibility': 6731, 'wind': {'speed': 6.08, 'deg': 349, 'gust': 12.25}, 'clouds': {'all': 97}, 'dt': 1676382624, 'sys': {'type': 2, 'id': 2000314, 'country': 'RU', 'sunrise': 1676350664, 'sunset': 1676384996}, 'timezone': 10800, 'id': 524901, 'name': 'Москва', 'cod': 200}\n"
     ]
    }
   ],
   "source": [
    "appid = '6916bbbfb0bd898507225e1c734290bb'\n",
    "#service = 'https://samples.openweathermap.org/data/2.5/weather'\n",
    "#city = 'Kazan'\n",
    "#city ='Stavropol'\n",
    "city ='Moscow'\n",
    "response = get_data(appid, city)\n",
    "\n",
    "print('Получен результат')\n",
    "print(response)\n",
    "\n",
    "with open('1_2_weather.json', 'w') as f:\n",
    "    json_repo = json.dump(response, f)"
   ]
  },
  {
   "cell_type": "code",
   "execution_count": null,
   "id": "97719fdc",
   "metadata": {},
   "outputs": [],
   "source": []
  }
 ],
 "metadata": {
  "kernelspec": {
   "display_name": "Python 3",
   "language": "python",
   "name": "python3"
  },
  "language_info": {
   "codemirror_mode": {
    "name": "ipython",
    "version": 3
   },
   "file_extension": ".py",
   "mimetype": "text/x-python",
   "name": "python",
   "nbconvert_exporter": "python",
   "pygments_lexer": "ipython3",
   "version": "3.8.8"
  }
 },
 "nbformat": 4,
 "nbformat_minor": 5
}
